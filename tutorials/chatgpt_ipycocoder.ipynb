{
 "cells": [
  {
   "cell_type": "code",
   "execution_count": 3,
   "metadata": {},
   "outputs": [],
   "source": [
    "import cocoder.ipython\n",
    "import os\n",
    "os.environ['_OPEN_AI_API'] = 'sk-xxxxxxxxxxx'\n",
    "os.environ['_OPEN_AI_MODEL'] = \"gpt-3.5-turbo\" \n",
    "# os.environ['_PROMPT_COMMAND'] = \"You can make customized prompt in here. This variable will be merged with traced error message.\""
   ]
  },
  {
   "cell_type": "code",
   "execution_count": 4,
   "metadata": {},
   "outputs": [
    {
     "ename": "ZeroDivisionError",
     "evalue": "division by zero",
     "output_type": "error",
     "traceback": [
      "\u001b[1;31m---------------------------------------------------------------------------\u001b[0m",
      "\u001b[1;31mZeroDivisionError\u001b[0m                         Traceback (most recent call last)",
      "\u001b[1;32mc:\\Users\\parkm\\Desktop\\biogit\\cocoder\\chatgpt_ipycocoder.ipynb Cell 2\u001b[0m in \u001b[0;36m<cell line: 1>\u001b[1;34m()\u001b[0m\n\u001b[1;32m----> <a href='vscode-notebook-cell:/c%3A/Users/parkm/Desktop/biogit/cocoder/chatgpt_ipycocoder.ipynb#W1sZmlsZQ%3D%3D?line=0'>1</a>\u001b[0m \u001b[39mprint\u001b[39m(\u001b[39m1\u001b[39;49m\u001b[39m/\u001b[39;49m\u001b[39m0\u001b[39;49m)\n",
      "\u001b[1;31mZeroDivisionError\u001b[0m: division by zero"
     ]
    },
    {
     "name": "stdout",
     "output_type": "stream",
     "text": [
      "To fix this error, you should make sure that the second argument in a division or modulo operation is not zero.\n",
      "\n",
      "Here's an example of how to avoid this error in Python:\n",
      "\n",
      "```\n",
      "a = 10\n",
      "b = 0\n",
      "\n",
      "if b != 0:\n",
      "    result = a / b\n",
      "else:\n",
      "    print(\"Error: division by zero\")\n",
      "\n",
      "print(result)\n",
      "```\n",
      "\n",
      "This code checks if the value of `b` is not zero before performing the division operation. If `b` is zero, it prints an error message instead of dividing by zero.\n",
      "\n",
      "Here is a Stack Overflow link related to this issue: \n",
      "- https://stackoverflow.com/questions/29150487/how-to-avoid-division-by-zero-error-python\n"
     ]
    }
   ],
   "source": [
    "print(1/0)"
   ]
  },
  {
   "cell_type": "code",
   "execution_count": 5,
   "metadata": {},
   "outputs": [
    {
     "ename": "NameError",
     "evalue": "name 'test_undefine_value' is not defined",
     "output_type": "error",
     "traceback": [
      "\u001b[1;31m---------------------------------------------------------------------------\u001b[0m",
      "\u001b[1;31mNameError\u001b[0m                                 Traceback (most recent call last)",
      "\u001b[1;32mc:\\Users\\parkm\\Desktop\\biogit\\cocoder\\chatgpt_ipycocoder.ipynb Cell 3\u001b[0m in \u001b[0;36m<cell line: 1>\u001b[1;34m()\u001b[0m\n\u001b[1;32m----> <a href='vscode-notebook-cell:/c%3A/Users/parkm/Desktop/biogit/cocoder/chatgpt_ipycocoder.ipynb#W2sZmlsZQ%3D%3D?line=0'>1</a>\u001b[0m \u001b[39mprint\u001b[39m(test_undefine_value)\n",
      "\u001b[1;31mNameError\u001b[0m: name 'test_undefine_value' is not defined"
     ]
    },
    {
     "name": "stdout",
     "output_type": "stream",
     "text": [
      "The error indicates that you are trying to use a variable or function that does not exist in the current scope. This could be because the variable has not been defined yet, or it was defined in a different scope.\n",
      "\n",
      "To fix this error, you need to define the variable or function before using it. If it is defined in a different module or file, you should import it first. If the variable is supposed to be defined in the current module, check to make sure it is spelled correctly and that it has not been accidentally deleted or modified.\n",
      "\n",
      "Here is an example code that reproduces the error:\n",
      "\n",
      "```\n",
      "def example_function():\n",
      "    print(\"This is an example function.\")\n",
      "    \n",
      "example_function()\n",
      "print(test_undefine_value)\n",
      "```\n",
      "\n",
      "To fix this error, you can define `test_undefine_value` before using it:\n",
      "\n",
      "```\n",
      "def example_function():\n",
      "    print(\"This is an example function.\")\n",
      "    \n",
      "example_function()\n",
      "test_undefine_value = 5\n",
      "print(test_undefine_value)\n",
      "```\n",
      "\n",
      "Here are some relevant Stack Overflow links related to this issue:\n",
      "\n",
      "- [What is a NameError in Python?](https://stackoverflow.com/questions/7232653/what-is-a-nameerror-in-python)\n",
      "- [How to define a variable in Python](https://stackoverflow.com/questions/5365562/how-to-define-a-global-variable-in-python)\n",
      "- [How to import a module in Python](https://stackoverflow.com/questions/7439145/import-error-no-module-name)\n"
     ]
    }
   ],
   "source": [
    "print(test_undefine_value)"
   ]
  }
 ],
 "metadata": {
  "kernelspec": {
   "display_name": "cc",
   "language": "python",
   "name": "cc"
  },
  "language_info": {
   "codemirror_mode": {
    "name": "ipython",
    "version": 3
   },
   "file_extension": ".py",
   "mimetype": "text/x-python",
   "name": "python",
   "nbconvert_exporter": "python",
   "pygments_lexer": "ipython3",
   "version": "3.9.12"
  },
  "orig_nbformat": 4
 },
 "nbformat": 4,
 "nbformat_minor": 2
}
