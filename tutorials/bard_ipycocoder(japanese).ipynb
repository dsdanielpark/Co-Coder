{
 "cells": [
  {
   "cell_type": "code",
   "execution_count": 1,
   "metadata": {},
   "outputs": [],
   "source": [
    "import cocoder.ipython\n",
    "import os\n",
    "os.environ['_BARD_API_KEY'] = 'xxxxxxxxx'\n",
    "os.environ[\"_BARD_ADVICE_LANG\"]='jp'\n",
    "# os.environ['_PROMPT_COMMAND'] = \"You can make customized prompt in here. This variable will be merged with traced error message.\""
   ]
  },
  {
   "cell_type": "code",
   "execution_count": 2,
   "metadata": {},
   "outputs": [
    {
     "ename": "ZeroDivisionError",
     "evalue": "division by zero",
     "output_type": "error",
     "traceback": [
      "\u001b[1;31m---------------------------------------------------------------------------\u001b[0m",
      "\u001b[1;31mZeroDivisionError\u001b[0m                         Traceback (most recent call last)",
      "\u001b[1;32mc:\\Users\\parkm\\Desktop\\biogit\\cocoder\\bard_ipycocoder(japanese).ipynb Cell 2\u001b[0m in \u001b[0;36m<cell line: 1>\u001b[1;34m()\u001b[0m\n\u001b[1;32m----> <a href='vscode-notebook-cell:/c%3A/Users/parkm/Desktop/biogit/cocoder/bard_ipycocoder%28japanese%29.ipynb#W1sZmlsZQ%3D%3D?line=0'>1</a>\u001b[0m \u001b[39mprint\u001b[39m(\u001b[39m1\u001b[39;49m\u001b[39m/\u001b[39;49m\u001b[39m0\u001b[39;49m)\n",
      "\u001b[1;31mZeroDivisionError\u001b[0m: division by zero"
     ]
    },
    {
     "name": "stdout",
     "output_type": "stream",
     "text": [
      "エラー「ゼロ除算エラー」は、数学においてゼロで除算しようとしたときに発生します。これは、ゼロを除数にすることはできないためです。ゼロ除算を試みると、ゼロ除算エラーが発生します。\n",
      "\n",
      "ゼロ除算エラーを回避するには、ゼロで除算しないようにする必要があります。たとえば、セルの値をゼロで除算しようとしている場合は、除算する前に値がゼロでないことをテストする必要があります。\n",
      "\n",
      "ゼロ除算エラーを回避する方法の例をいくつか示します。\n",
      "\n",
      "* `if`ステートメントを使用して、値がゼロでないかどうかを確認します。\n",
      "* `try`/`except`ブロックを使用して、ゼロで除算しようとしたときにエラーをキャッチします。\n",
      "* `math`モジュールの`isclose()`関数を使用して、値がゼロに近いかをテストします。\n",
      "\n",
      "ゼロ除算エラーが発生した場合は、エラーを修正するために実行できる手順がいくつかあります。\n",
      "\n",
      "* ゼロ除算を行っているコード行を見つけて修正します。\n",
      "* 除数を変更して、ゼロではない値にします。\n",
      "* `try`/`except`ブロックを使用して、ゼロで除算しようとしたときにエラーをキャッチします。\n",
      "\n",
      "お役に立てれば幸いです。\n"
     ]
    }
   ],
   "source": [
    "print(1/0)"
   ]
  },
  {
   "cell_type": "code",
   "execution_count": 3,
   "metadata": {},
   "outputs": [
    {
     "ename": "NameError",
     "evalue": "name 'tset_undefine_value' is not defined",
     "output_type": "error",
     "traceback": [
      "\u001b[1;31m---------------------------------------------------------------------------\u001b[0m",
      "\u001b[1;31mNameError\u001b[0m                                 Traceback (most recent call last)",
      "\u001b[1;32mc:\\Users\\parkm\\Desktop\\biogit\\cocoder\\bard_ipycocoder(japanese).ipynb Cell 3\u001b[0m in \u001b[0;36m<cell line: 1>\u001b[1;34m()\u001b[0m\n\u001b[1;32m----> <a href='vscode-notebook-cell:/c%3A/Users/parkm/Desktop/biogit/cocoder/bard_ipycocoder%28japanese%29.ipynb#W2sZmlsZQ%3D%3D?line=0'>1</a>\u001b[0m \u001b[39mprint\u001b[39m(tset_undefine_value)\n",
      "\u001b[1;31mNameError\u001b[0m: name 'tset_undefine_value' is not defined"
     ]
    },
    {
     "name": "stdout",
     "output_type": "stream",
     "text": [
      "エラーメッセージは、変数「tset_undefine_value」が定義されていないことを示しています。これは、変数が以前に宣言されていないか、変数がプログラムの現在のスコープで定義されていない場合に発生する可能性があります。\n",
      "\n",
      "このエラーを解決するには、変数を宣言するか、変数をプログラムの現在のスコープにインポートする必要があります。たとえば、次のように変数を宣言できます。\n",
      "\n",
      "```python\n",
      "tset_undefine_value = 10\n",
      "```\n",
      "\n",
      "または、次のように変数をインポートできます。\n",
      "\n",
      "```python\n",
      "from my_module import tset_undefine_value\n",
      "```\n",
      "\n",
      "お役に立てれば幸いです。\n"
     ]
    }
   ],
   "source": [
    "print(tset_undefine_value)"
   ]
  }
 ],
 "metadata": {
  "kernelspec": {
   "display_name": "cc",
   "language": "python",
   "name": "cc"
  },
  "language_info": {
   "codemirror_mode": {
    "name": "ipython",
    "version": 3
   },
   "file_extension": ".py",
   "mimetype": "text/x-python",
   "name": "python",
   "nbconvert_exporter": "python",
   "pygments_lexer": "ipython3",
   "version": "3.9.12"
  },
  "orig_nbformat": 4
 },
 "nbformat": 4,
 "nbformat_minor": 2
}
